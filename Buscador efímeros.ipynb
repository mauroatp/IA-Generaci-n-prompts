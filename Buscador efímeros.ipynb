{
 "cells": [
  {
   "cell_type": "markdown",
   "id": "7820126d",
   "metadata": {},
   "source": [
    "Buscador de efímeres"
   ]
  },
  {
   "cell_type": "code",
   "execution_count": 1,
   "id": "e458fc38",
   "metadata": {},
   "outputs": [],
   "source": [
    "#Import openAI\n",
    "import openai"
   ]
  },
  {
   "cell_type": "code",
   "execution_count": 2,
   "id": "4a32cbb6",
   "metadata": {},
   "outputs": [],
   "source": [
    "#API Key\n",
    "openai.api_key = \"\""
   ]
  },
  {
   "cell_type": "code",
   "execution_count": 3,
   "id": "09eba021",
   "metadata": {},
   "outputs": [],
   "source": [
    "#Make the context of our prompt envoirement\n",
    "context = \"Eres un asistente que brinda efímeres historicas dada una fecha brindada por el usuario. Debes mostrar solo una efímere con el suceso resumido en pocas palabras más la fecha y lugar.\""
   ]
  },
  {
   "cell_type": "code",
   "execution_count": null,
   "id": "73591558",
   "metadata": {},
   "outputs": [],
   "source": [
    "continuar = True\n",
    "\n",
    "# Ask follow-up questions\n",
    "reason = input(\"¿Quieres saber la efímere del día de hoy? (Y/N)\")\n",
    "\n",
    "#Condition date\n",
    "if reason.upper() == \"N\":\n",
    "    fecha = input(\"¿Qué fecha buscás?\")\n",
    "\n",
    "else:\n",
    "    fecha = \"hoy\"\n",
    "    \n",
    "#prompt (text/user's question)\n",
    "prompt = f\"Me encuentro en la búsqueda de una efímere del día {fecha}\"\n",
    "\n",
    "while continuar:\n",
    "\n",
    "    # Make the request\n",
    "    conversation = [\n",
    "    {\"role\": \"system\", \"content\": context},\n",
    "    {\"role\": \"user\", \"content\": prompt}\n",
    "    ]\n",
    "\n",
    "    response = openai.ChatCompletion.create(\n",
    "    model='gpt-3.5-turbo',\n",
    "    messages=conversation,\n",
    "    max_tokens=4000\n",
    "    )\n",
    "\n",
    "    #Storage the response\n",
    "    frase = response['choices'][0]['message']['content'].strip()\n",
    "    \n",
    "    #Show result the variable\n",
    "    print(frase)\n",
    "\n",
    "    #Repeat \n",
    "    repetir = input(\"¿Deseas otra efímere del día {fecha}? Y/N\")\n",
    "    \n",
    "    if repetir.upper() == \"Y\":\n",
    "        continuar = True\n",
    "    else:\n",
    "        continuar = False\n",
    "        break;\n",
    "print(\"Hasta la proxima!!\")"
   ]
  }
 ],
 "metadata": {
  "kernelspec": {
   "display_name": "Python 3 (ipykernel)",
   "language": "python",
   "name": "python3"
  },
  "language_info": {
   "codemirror_mode": {
    "name": "ipython",
    "version": 3
   },
   "file_extension": ".py",
   "mimetype": "text/x-python",
   "name": "python",
   "nbconvert_exporter": "python",
   "pygments_lexer": "ipython3",
   "version": "3.10.9"
  }
 },
 "nbformat": 4,
 "nbformat_minor": 5
}
